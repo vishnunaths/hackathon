{
  "nbformat": 4,
  "nbformat_minor": 0,
  "metadata": {
    "colab": {
      "name": "HackerEarth_Incedo_Part_II.ipynb",
      "version": "0.3.2",
      "provenance": []
    },
    "kernelspec": {
      "name": "python3",
      "display_name": "Python 3"
    }
  },
  "cells": [
    {
      "metadata": {
        "id": "6pc5ocAmOpAV",
        "colab_type": "text"
      },
      "cell_type": "markdown",
      "source": [
        "Importing the Libraries"
      ]
    },
    {
      "metadata": {
        "id": "GlNFtioTOHYh",
        "colab_type": "code",
        "colab": {}
      },
      "cell_type": "code",
      "source": [
        "import keras\n",
        "import nltk\n",
        "import pandas as pd\n",
        "import numpy as np\n",
        "import re\n",
        "import codecs\n",
        "from sklearn.preprocessing import LabelEncoder, OneHotEncoder\n",
        "from sklearn.model_selection import train_test_split\n",
        "from sklearn.preprocessing import StandardScaler\n",
        "from sklearn.metrics import r2_score,mean_absolute_error"
      ],
      "execution_count": 0,
      "outputs": []
    },
    {
      "metadata": {
        "id": "fcxHb4VMPKK9",
        "colab_type": "text"
      },
      "cell_type": "markdown",
      "source": [
        "Importing the files"
      ]
    },
    {
      "metadata": {
        "id": "DZftBQDPPMQ1",
        "colab_type": "code",
        "colab": {
          "base_uri": "https://localhost:8080/",
          "height": 50
        },
        "outputId": "f8cc0c38-b6b8-44c2-b769-883f31db502f"
      },
      "cell_type": "code",
      "source": [
        "train_dataset = pd.read_csv(\"train_dataset.csv\")\n",
        "train_dataset = train_dataset.dropna(axis=0)\n",
        "print(len(train_dataset))\n",
        "test_dataset = pd.read_csv(\"test_dataset.csv\")\n",
        "train_dataset = pd.concat([train_dataset,test_dataset],axis =0, sort=False)\n",
        "train_dataset.head()\n",
        "print(len(train_dataset))"
      ],
      "execution_count": 76,
      "outputs": [
        {
          "output_type": "stream",
          "text": [
            "16176\n",
            "21400\n"
          ],
          "name": "stdout"
        }
      ]
    },
    {
      "metadata": {
        "id": "d2qEGCwsZBtF",
        "colab_type": "text"
      },
      "cell_type": "markdown",
      "source": [
        "Data Preprocessing"
      ]
    },
    {
      "metadata": {
        "id": "asm45BzgZJmF",
        "colab_type": "text"
      },
      "cell_type": "markdown",
      "source": [
        "X1 - EssaySet"
      ]
    },
    {
      "metadata": {
        "id": "iLArwEexPiCs",
        "colab_type": "code",
        "colab": {
          "base_uri": "https://localhost:8080/",
          "height": 121
        },
        "outputId": "258b75de-f73d-4ada-cb84-c2e5a42c2314"
      },
      "cell_type": "code",
      "source": [
        "X1 = train_dataset.iloc[:,1]\n",
        "X1  = X1.values.reshape((len(X1),1))\n",
        "onehotencoder_X1 = OneHotEncoder()\n",
        "onehotencoder_X1 = onehotencoder_X1.fit(X1)\n",
        "X1 = onehotencoder_X1.transform(X1).toarray()\n",
        "X1.shape"
      ],
      "execution_count": 77,
      "outputs": [
        {
          "output_type": "stream",
          "text": [
            "/usr/local/lib/python3.6/dist-packages/sklearn/preprocessing/_encoders.py:371: FutureWarning: The handling of integer data will change in version 0.22. Currently, the categories are determined based on the range [0, max(values)], while in the future they will be determined based on the unique values.\n",
            "If you want the future behaviour and silence this warning, you can specify \"categories='auto'\".\n",
            "In case you used a LabelEncoder before this OneHotEncoder to convert the categories to integers, then you can now use the OneHotEncoder directly.\n",
            "  warnings.warn(msg, FutureWarning)\n"
          ],
          "name": "stderr"
        },
        {
          "output_type": "execute_result",
          "data": {
            "text/plain": [
              "(21400, 10)"
            ]
          },
          "metadata": {
            "tags": []
          },
          "execution_count": 77
        }
      ]
    },
    {
      "metadata": {
        "id": "MLaKTfUWZXqF",
        "colab_type": "text"
      },
      "cell_type": "markdown",
      "source": [
        "y - Calculate mean / max value"
      ]
    },
    {
      "metadata": {
        "id": "PP5-PUYOQBWs",
        "colab_type": "code",
        "colab": {
          "base_uri": "https://localhost:8080/",
          "height": 1058
        },
        "outputId": "cad49f85-5047-4747-96d4-58302cae2877"
      },
      "cell_type": "code",
      "source": [
        "max_value = train_dataset.iloc[:,3]\n",
        "score1_5 = train_dataset.iloc[:,4:9]\n",
        "score1_5_mean = score1_5.mean(axis = 1)\n",
        "len(score1_5_mean)\n",
        "y = score1_5_mean.div(max_value)\n",
        "y"
      ],
      "execution_count": 79,
      "outputs": [
        {
          "output_type": "execute_result",
          "data": {
            "text/plain": [
              "0       0.333333\n",
              "2       0.366667\n",
              "3       0.066667\n",
              "4       0.633333\n",
              "5       0.066667\n",
              "6       0.100000\n",
              "7       0.933333\n",
              "8       1.000000\n",
              "9       0.700000\n",
              "10      0.033333\n",
              "11      0.933333\n",
              "12      0.633333\n",
              "13      0.600000\n",
              "14      0.033333\n",
              "15      0.133333\n",
              "16      0.800000\n",
              "17      0.066667\n",
              "18      0.100000\n",
              "19      0.966667\n",
              "20      0.066667\n",
              "21      0.700000\n",
              "22      0.133333\n",
              "23      0.966667\n",
              "24      0.466667\n",
              "25      0.633333\n",
              "26      0.666667\n",
              "27      0.000000\n",
              "28      0.966667\n",
              "29      0.166667\n",
              "30      0.633333\n",
              "          ...   \n",
              "5194         NaN\n",
              "5195         NaN\n",
              "5196         NaN\n",
              "5197         NaN\n",
              "5198         NaN\n",
              "5199         NaN\n",
              "5200         NaN\n",
              "5201         NaN\n",
              "5202         NaN\n",
              "5203         NaN\n",
              "5204         NaN\n",
              "5205         NaN\n",
              "5206         NaN\n",
              "5207         NaN\n",
              "5208         NaN\n",
              "5209         NaN\n",
              "5210         NaN\n",
              "5211         NaN\n",
              "5212         NaN\n",
              "5213         NaN\n",
              "5214         NaN\n",
              "5215         NaN\n",
              "5216         NaN\n",
              "5217         NaN\n",
              "5218         NaN\n",
              "5219         NaN\n",
              "5220         NaN\n",
              "5221         NaN\n",
              "5222         NaN\n",
              "5223         NaN\n",
              "Length: 21400, dtype: float64"
            ]
          },
          "metadata": {
            "tags": []
          },
          "execution_count": 79
        }
      ]
    },
    {
      "metadata": {
        "id": "H2hAMhoydsNG",
        "colab_type": "text"
      },
      "cell_type": "markdown",
      "source": [
        "X2 - Clarity"
      ]
    },
    {
      "metadata": {
        "id": "mxTmoioxdutN",
        "colab_type": "code",
        "colab": {
          "base_uri": "https://localhost:8080/",
          "height": 188
        },
        "outputId": "2035ffe9-66a4-4274-8ef5-ed19e46330da"
      },
      "cell_type": "code",
      "source": [
        "X2 = train_dataset.iloc[:,9]\n",
        "X2  = X2.values.reshape((len(X2),1))\n",
        "labelencoder_X2 = LabelEncoder()\n",
        "labelencoder_X2 = labelencoder_X2.fit(X2)\n",
        "X2 = labelencoder_X2.transform(X2)\n",
        "X2 = X2.reshape((len(X2),1))\n",
        "onehotencoder_X2 = OneHotEncoder()\n",
        "onehotencoder_X2 = onehotencoder_X2.fit(X2)\n",
        "X2 = onehotencoder_X2.transform(X2).toarray()\n",
        "X2.shape"
      ],
      "execution_count": 80,
      "outputs": [
        {
          "output_type": "stream",
          "text": [
            "/usr/local/lib/python3.6/dist-packages/sklearn/preprocessing/label.py:219: DataConversionWarning: A column-vector y was passed when a 1d array was expected. Please change the shape of y to (n_samples, ), for example using ravel().\n",
            "  y = column_or_1d(y, warn=True)\n",
            "/usr/local/lib/python3.6/dist-packages/sklearn/preprocessing/label.py:252: DataConversionWarning: A column-vector y was passed when a 1d array was expected. Please change the shape of y to (n_samples, ), for example using ravel().\n",
            "  y = column_or_1d(y, warn=True)\n",
            "/usr/local/lib/python3.6/dist-packages/sklearn/preprocessing/_encoders.py:371: FutureWarning: The handling of integer data will change in version 0.22. Currently, the categories are determined based on the range [0, max(values)], while in the future they will be determined based on the unique values.\n",
            "If you want the future behaviour and silence this warning, you can specify \"categories='auto'\".\n",
            "In case you used a LabelEncoder before this OneHotEncoder to convert the categories to integers, then you can now use the OneHotEncoder directly.\n",
            "  warnings.warn(msg, FutureWarning)\n"
          ],
          "name": "stderr"
        },
        {
          "output_type": "execute_result",
          "data": {
            "text/plain": [
              "(21400, 4)"
            ]
          },
          "metadata": {
            "tags": []
          },
          "execution_count": 80
        }
      ]
    },
    {
      "metadata": {
        "id": "dF03AFgxebHl",
        "colab_type": "text"
      },
      "cell_type": "markdown",
      "source": [
        "X3 - Coherent"
      ]
    },
    {
      "metadata": {
        "id": "brSz2xzbeiad",
        "colab_type": "code",
        "colab": {
          "base_uri": "https://localhost:8080/",
          "height": 188
        },
        "outputId": "f44ee115-5a66-43a0-de62-2334cb68d34f"
      },
      "cell_type": "code",
      "source": [
        "X3 = train_dataset.iloc[:,10]\n",
        "X3  = X3.values.reshape((len(X3),1))\n",
        "labelencoder_X3 = LabelEncoder()\n",
        "labelencoder_X3 = labelencoder_X3.fit(X3)\n",
        "X3 = labelencoder_X3.transform(X3)\n",
        "X3 = X3.reshape((len(X3),1))\n",
        "onehotencoder_X3 = OneHotEncoder()\n",
        "onehotencoder_X3 = onehotencoder_X3.fit(X3)\n",
        "X3 = onehotencoder_X3.transform(X3).toarray()\n",
        "X3.shape"
      ],
      "execution_count": 81,
      "outputs": [
        {
          "output_type": "stream",
          "text": [
            "/usr/local/lib/python3.6/dist-packages/sklearn/preprocessing/label.py:219: DataConversionWarning: A column-vector y was passed when a 1d array was expected. Please change the shape of y to (n_samples, ), for example using ravel().\n",
            "  y = column_or_1d(y, warn=True)\n",
            "/usr/local/lib/python3.6/dist-packages/sklearn/preprocessing/label.py:252: DataConversionWarning: A column-vector y was passed when a 1d array was expected. Please change the shape of y to (n_samples, ), for example using ravel().\n",
            "  y = column_or_1d(y, warn=True)\n",
            "/usr/local/lib/python3.6/dist-packages/sklearn/preprocessing/_encoders.py:371: FutureWarning: The handling of integer data will change in version 0.22. Currently, the categories are determined based on the range [0, max(values)], while in the future they will be determined based on the unique values.\n",
            "If you want the future behaviour and silence this warning, you can specify \"categories='auto'\".\n",
            "In case you used a LabelEncoder before this OneHotEncoder to convert the categories to integers, then you can now use the OneHotEncoder directly.\n",
            "  warnings.warn(msg, FutureWarning)\n"
          ],
          "name": "stderr"
        },
        {
          "output_type": "execute_result",
          "data": {
            "text/plain": [
              "(21400, 4)"
            ]
          },
          "metadata": {
            "tags": []
          },
          "execution_count": 81
        }
      ]
    },
    {
      "metadata": {
        "id": "CoqdlESVfQlV",
        "colab_type": "text"
      },
      "cell_type": "markdown",
      "source": [
        "Concat and create X:"
      ]
    },
    {
      "metadata": {
        "id": "ZTSB3PjIfUBm",
        "colab_type": "code",
        "colab": {}
      },
      "cell_type": "code",
      "source": [
        "X_train_test = np.concatenate((X1,X2,X3),axis=1)\n",
        "X = X_train_test[:16176,:]\n",
        "y = y[:16176]"
      ],
      "execution_count": 0,
      "outputs": []
    },
    {
      "metadata": {
        "id": "F6fEAws6iMPl",
        "colab_type": "text"
      },
      "cell_type": "markdown",
      "source": [
        "Splitting X and y"
      ]
    },
    {
      "metadata": {
        "id": "SI0klpWciPit",
        "colab_type": "code",
        "colab": {}
      },
      "cell_type": "code",
      "source": [
        "X_train, X_test, y_train, y_test = train_test_split(X, y, test_size = 0.25)"
      ],
      "execution_count": 0,
      "outputs": []
    },
    {
      "metadata": {
        "id": "B_qn5Igpiyy-",
        "colab_type": "text"
      },
      "cell_type": "markdown",
      "source": [
        "Fitting multiple linear regression to the training set"
      ]
    },
    {
      "metadata": {
        "id": "p0yzrPamjWgH",
        "colab_type": "text"
      },
      "cell_type": "markdown",
      "source": [
        "Linear Regressor and its results"
      ]
    },
    {
      "metadata": {
        "id": "Q-jqEOvyjaGm",
        "colab_type": "code",
        "colab": {
          "base_uri": "https://localhost:8080/",
          "height": 67
        },
        "outputId": "2346a816-512c-4e91-dc92-88a6bfe779be"
      },
      "cell_type": "code",
      "source": [
        "from sklearn.linear_model import LinearRegression\n",
        "Linear_regressor = LinearRegression()\n",
        "Linear_regressor.fit(X_train, y_train)\n",
        "y_pred = Linear_regressor.predict(X_test)\n",
        "y_pred = pd.DataFrame(y_pred)\n",
        "y_test = pd.DataFrame(y_test)\n",
        "\n",
        "print('Linear Regression')\n",
        "LinReg_r2_score = r2_score(y_test, y_pred, sample_weight=None)\n",
        "print(LinReg_r2_score)\n",
        "\n",
        "LinReg_mean_absolute_error = mean_absolute_error(y_test, y_pred, sample_weight=None)\n",
        "print(LinReg_mean_absolute_error)"
      ],
      "execution_count": 87,
      "outputs": [
        {
          "output_type": "stream",
          "text": [
            "Linear Regression\n",
            "0.7626038460376572\n",
            "0.13814602784893515\n"
          ],
          "name": "stdout"
        }
      ]
    },
    {
      "metadata": {
        "id": "EkP62uNDjhP4",
        "colab_type": "text"
      },
      "cell_type": "markdown",
      "source": [
        "Decision Tree regressor"
      ]
    },
    {
      "metadata": {
        "id": "10ZRK4Oqjohf",
        "colab_type": "code",
        "colab": {
          "base_uri": "https://localhost:8080/",
          "height": 67
        },
        "outputId": "046bb527-c739-4b9a-de6c-34bf9152017e"
      },
      "cell_type": "code",
      "source": [
        "from sklearn.tree import DecisionTreeRegressor\n",
        "DT_regressor = DecisionTreeRegressor()\n",
        "DT_regressor.fit(X_train, y_train)\n",
        "\n",
        "y_pred = DT_regressor.predict(X_test)\n",
        "y_pred.reshape(len(y_pred),1)\n",
        "\n",
        "print('DT Regressor')\n",
        "DT_r2_score = r2_score(y_test, y_pred, sample_weight=None)\n",
        "print(DT_r2_score)\n",
        "\n",
        "DT_mean_absolute_error = mean_absolute_error(y_test, y_pred, sample_weight=None)\n",
        "print(DT_mean_absolute_error)"
      ],
      "execution_count": 88,
      "outputs": [
        {
          "output_type": "stream",
          "text": [
            "DT Regressor\n",
            "0.7752901360458118\n",
            "0.13280868978616528\n"
          ],
          "name": "stdout"
        }
      ]
    },
    {
      "metadata": {
        "id": "wi2gGXTekUX-",
        "colab_type": "text"
      },
      "cell_type": "markdown",
      "source": [
        "Random Forest 300"
      ]
    },
    {
      "metadata": {
        "id": "hfBYRx_tkWyD",
        "colab_type": "code",
        "colab": {
          "base_uri": "https://localhost:8080/",
          "height": 67
        },
        "outputId": "95791fec-066a-403d-9c5b-6efca49884f4"
      },
      "cell_type": "code",
      "source": [
        "from sklearn.ensemble import RandomForestRegressor\n",
        "RF_regressor = RandomForestRegressor(n_estimators=5)\n",
        "RF_regressor.fit(X_train, y_train)\n",
        "\n",
        "y_pred = RF_regressor.predict(X_test)\n",
        "\n",
        "print('RF Regressor')\n",
        "RF_r2_score = r2_score(y_test, y_pred, sample_weight=None)\n",
        "print(RF_r2_score)\n",
        "\n",
        "RF_mean_absolute_error = mean_absolute_error(y_test, y_pred, sample_weight=None)\n",
        "print(RF_mean_absolute_error)"
      ],
      "execution_count": 89,
      "outputs": [
        {
          "output_type": "stream",
          "text": [
            "RF Regressor\n",
            "0.7742203493357491\n",
            "0.13304217326199771\n"
          ],
          "name": "stdout"
        }
      ]
    },
    {
      "metadata": {
        "id": "W5EOvU4Lkq7W",
        "colab_type": "text"
      },
      "cell_type": "markdown",
      "source": [
        "ANN - SciKit"
      ]
    },
    {
      "metadata": {
        "id": "v_JNy8KJko6W",
        "colab_type": "code",
        "colab": {
          "base_uri": "https://localhost:8080/",
          "height": 823
        },
        "outputId": "244f4738-36ea-49a5-81a6-6238977c5cd3"
      },
      "cell_type": "code",
      "source": [
        "from sklearn.neural_network import MLPRegressor\n",
        "ANN_Regressor = MLPRegressor(hidden_layer_sizes=(10,2 ), activation='relu', solver='adam', alpha=0.0001, batch_size='auto', learning_rate='constant', learning_rate_init=0.001, power_t=0.5, max_iter=200, shuffle=True, random_state=None, tol=0.0001, verbose=True, warm_start=False, momentum=0.9, nesterovs_momentum=True, early_stopping=False, validation_fraction=0.1, beta_1=0.9, beta_2=0.999, epsilon=1e-08)\n",
        "ANN_Regressor.fit(X_train,y_train)\n",
        "\n",
        "y_pred = ANN_Regressor.predict(X_test)\n",
        "\n",
        "for i in range(len(y_pred)):\n",
        "    if y_pred[i] < 0:\n",
        "        y_pred[i] = 0\n",
        "    if y_pred[i] > 1:\n",
        "        y_pred[i] = 1\n",
        "\n",
        "print('MLP Regressor')\n",
        "MLP_r2_score = r2_score(y_test, y_pred, sample_weight=None)\n",
        "print(MLP_r2_score)\n",
        "\n",
        "MLP_mean_absolute_error = mean_absolute_error(y_test, y_pred, sample_weight=None)\n",
        "print(MLP_mean_absolute_error)\n",
        "\n",
        "y_pred = ANN_Regressor.predict(X_test)"
      ],
      "execution_count": 90,
      "outputs": [
        {
          "output_type": "stream",
          "text": [
            "Iteration 1, loss = 0.54442489\n",
            "Iteration 2, loss = 0.48002560\n",
            "Iteration 3, loss = 0.42867651\n",
            "Iteration 4, loss = 0.38210977\n",
            "Iteration 5, loss = 0.34008920\n",
            "Iteration 6, loss = 0.30232319\n",
            "Iteration 7, loss = 0.26849575\n",
            "Iteration 8, loss = 0.23839474\n",
            "Iteration 9, loss = 0.21169370\n",
            "Iteration 10, loss = 0.18816529\n",
            "Iteration 11, loss = 0.16750775\n",
            "Iteration 12, loss = 0.14950070\n",
            "Iteration 13, loss = 0.13388598\n",
            "Iteration 14, loss = 0.12044219\n",
            "Iteration 15, loss = 0.10893514\n",
            "Iteration 16, loss = 0.09916764\n",
            "Iteration 17, loss = 0.09093124\n",
            "Iteration 18, loss = 0.08405346\n",
            "Iteration 19, loss = 0.07834031\n",
            "Iteration 20, loss = 0.07365081\n",
            "Iteration 21, loss = 0.06983571\n",
            "Iteration 22, loss = 0.06675868\n",
            "Iteration 23, loss = 0.06430168\n",
            "Iteration 24, loss = 0.06236880\n",
            "Iteration 25, loss = 0.06085003\n",
            "Iteration 26, loss = 0.05968233\n",
            "Iteration 27, loss = 0.05878695\n",
            "Iteration 28, loss = 0.05810962\n",
            "Iteration 29, loss = 0.05760585\n",
            "Iteration 30, loss = 0.05723621\n",
            "Iteration 31, loss = 0.05696606\n",
            "Iteration 32, loss = 0.05677389\n",
            "Iteration 33, loss = 0.05663571\n",
            "Iteration 34, loss = 0.05654080\n",
            "Iteration 35, loss = 0.05647543\n",
            "Iteration 36, loss = 0.05643174\n",
            "Iteration 37, loss = 0.05640246\n",
            "Iteration 38, loss = 0.05638428\n",
            "Iteration 39, loss = 0.05637108\n",
            "Iteration 40, loss = 0.05636393\n",
            "Iteration 41, loss = 0.05635960\n",
            "Iteration 42, loss = 0.05635664\n",
            "Iteration 43, loss = 0.05635459\n",
            "Iteration 44, loss = 0.05635355\n",
            "Training loss did not improve more than tol=0.000100 for 10 consecutive epochs. Stopping.\n",
            "MLP Regressor\n",
            "-4.367340747246651e-05\n",
            "0.2928396310345836\n"
          ],
          "name": "stdout"
        }
      ]
    },
    {
      "metadata": {
        "id": "XF5J5UKPmMEB",
        "colab_type": "text"
      },
      "cell_type": "markdown",
      "source": [
        "Test set Evaluation :"
      ]
    },
    {
      "metadata": {
        "id": "AWVgADnmmS2-",
        "colab_type": "code",
        "colab": {
          "base_uri": "https://localhost:8080/",
          "height": 50
        },
        "outputId": "b96449a9-0cd4-42e9-a44b-391b91e2714a"
      },
      "cell_type": "code",
      "source": [
        "RF_s_regressor = RandomForestRegressor(n_estimators=5)\n",
        "RF_s_regressor.fit(X, y)\n",
        "\n",
        "X_s = X_train_test[16176:,:]\n",
        "y_pred = RF_s_regressor.predict(X_s)\n",
        "max_value_s = max_value[16176:]\n",
        "max_value_s = max_value_s.values\n",
        "y_pred = np.multiply(y_pred,max_value_s)"
      ],
      "execution_count": 102,
      "outputs": [
        {
          "output_type": "execute_result",
          "data": {
            "text/plain": [
              "array([0.49004006, 0.49004006, 2.31313446, ..., 0.73697269, 0.73697269,\n",
              "       0.73697269])"
            ]
          },
          "metadata": {
            "tags": []
          },
          "execution_count": 102
        }
      ]
    },
    {
      "metadata": {
        "id": "rCOOGpthrPwb",
        "colab_type": "text"
      },
      "cell_type": "markdown",
      "source": [
        "Wrting submission file"
      ]
    },
    {
      "metadata": {
        "id": "WOBpgXFTrPS1",
        "colab_type": "code",
        "colab": {}
      },
      "cell_type": "code",
      "source": [
        "np.savetxt(\"submission.csv\", y_pred, delimiter=\",\")"
      ],
      "execution_count": 0,
      "outputs": []
    }
  ]
}